{
 "cells": [
  {
   "cell_type": "markdown",
   "metadata": {},
   "source": [
    "# Functions, Scoping, Data Collections 1 & List Comprehensions"
   ]
  },
  {
   "cell_type": "markdown",
   "metadata": {},
   "source": [
    "## Tasks Today:\n",
    "\n",
    "<i>Monday Additions (for loops)</i>\n",
    "\n",
    "1) For Loops <br>\n",
    " &nbsp;&nbsp;&nbsp;&nbsp; a) Using 'in' keyword <br>\n",
    " &nbsp;&nbsp;&nbsp;&nbsp; b) Continue Statement <br>\n",
    " &nbsp;&nbsp;&nbsp;&nbsp; c) Break Statement <br>\n",
    " &nbsp;&nbsp;&nbsp;&nbsp; d) Pass Statement <br>\n",
    " &nbsp;&nbsp;&nbsp;&nbsp; e) Double For Loops <br>\n",
    "2) While Loops <br>\n",
    " &nbsp;&nbsp;&nbsp;&nbsp; a) Looping 'While True' <br>\n",
    " &nbsp;&nbsp;&nbsp;&nbsp; b) While and For Loops Used Together <br>\n",
    " \n",
    "3) Lists <br>\n",
    " &nbsp;&nbsp;&nbsp;&nbsp; a) Declaring Lists <br>\n",
    " &nbsp;&nbsp;&nbsp;&nbsp; b) Indexing a List <br>\n",
    " &nbsp;&nbsp;&nbsp;&nbsp; c) .append() <br>\n",
    " &nbsp;&nbsp;&nbsp;&nbsp; d) .insert() <br>\n",
    " &nbsp;&nbsp;&nbsp;&nbsp; e) .pop() <br>\n",
    " &nbsp;&nbsp;&nbsp;&nbsp; f) .remove() <br>\n",
    " &nbsp;&nbsp;&nbsp;&nbsp; g) del() <br>\n",
    " &nbsp;&nbsp;&nbsp;&nbsp; h) Concatenating Two Lists <br>\n",
    " &nbsp;&nbsp;&nbsp;&nbsp; i) Lists Within Lists <br>\n",
    " &nbsp;&nbsp;&nbsp;&nbsp; j) Looping Through Lists <br>\n",
    "4) Working With Lists <br>\n",
    " &nbsp;&nbsp;&nbsp;&nbsp; a) min() <br>\n",
    " &nbsp;&nbsp;&nbsp;&nbsp; b) max() <br>\n",
    " &nbsp;&nbsp;&nbsp;&nbsp; c) sum() <br>\n",
    " &nbsp;&nbsp;&nbsp;&nbsp; d) sort() <br>\n",
    " &nbsp;&nbsp;&nbsp;&nbsp; e) Copying a List <br>\n",
    " &nbsp;&nbsp;&nbsp;&nbsp; f) 'in' keyword <br>\n",
    " &nbsp;&nbsp;&nbsp;&nbsp; g) 'not in' keyword <br>\n",
    " &nbsp;&nbsp;&nbsp;&nbsp; i) Checking an Empty List <br>\n",
    " &nbsp;&nbsp;&nbsp;&nbsp; j) Removing Instances with a Loop <br> \n",
    "5) List Comprehensions <br>\n",
    "6) Tuples <br>\n",
    " &nbsp;&nbsp;&nbsp;&nbsp; a) sorted() <br>\n"
   ]
  },
  {
   "cell_type": "markdown",
   "metadata": {},
   "source": [
    "### For Loops"
   ]
  },
  {
   "cell_type": "code",
   "execution_count": 2,
   "metadata": {},
   "outputs": [
    {
     "name": "stdout",
     "output_type": "stream",
     "text": [
      "12\n",
      "R\n",
      "y\n",
      "a\n",
      "n\n",
      " \n",
      "R\n",
      "h\n",
      "o\n",
      "a\n",
      "d\n",
      "e\n",
      "s\n"
     ]
    }
   ],
   "source": [
    "# for keyword, counter/iterator variable, in keyword, object\n",
    "# ** The For Loop runs through the string one time and hits every single character in the string **\n",
    "\n",
    "name = \"Ryan Rhoades\"\n",
    "\n",
    "# We use the for keyword, iterator variable, in keyword, the thing we're looping through\n",
    "# for letter in name:\n",
    "#    print(letter)\n",
    "\n",
    "\n",
    "#number = 123456\n",
    "\n",
    "# for num in number:\n",
    "#    print(num)\n",
    "# we can't iterate through integers or floats (numbers in general)\n",
    "\n",
    "# range()\n",
    "# Len()\n",
    "\n",
    "print(len(name))\n",
    "\n",
    "# Looping by index\n",
    "# We use the for keyword, iterator variable, in keyword (range(len(object))\n",
    "for i in range(len(name)):\n",
    "    print(name[i])\n",
    "\n",
    "# print(name[0])\n"
   ]
  },
  {
   "cell_type": "code",
   "execution_count": 4,
   "metadata": {},
   "outputs": [
    {
     "name": "stdout",
     "output_type": "stream",
     "text": [
      "0 R\n",
      "1 y\n",
      "2 a\n",
      "3 n\n",
      "4  \n",
      "5 R\n",
      "6 h\n",
      "7 o\n",
      "8 a\n",
      "9 d\n",
      "10 e\n",
      "11 s\n"
     ]
    }
   ],
   "source": [
    "#enumerate()\n",
    "name = \"Ryan Rhoades\"\n",
    "\n",
    "for i, value in enumerate(name):\n",
    "    print(i, value)\n"
   ]
  },
  {
   "cell_type": "code",
   "execution_count": 6,
   "metadata": {},
   "outputs": [
    {
     "name": "stdout",
     "output_type": "stream",
     "text": [
      "4\n",
      "6\n",
      "6\n"
     ]
    }
   ],
   "source": [
    "name2 = \"Alex\"\n",
    "name3 = \"Justin\"\n",
    "name4 = \"Razvan\"\n",
    "\n",
    "print(len(name2))\n",
    "print(len(name3))\n",
    "print(len(name4))\n",
    "\n",
    "\n"
   ]
  },
  {
   "cell_type": "markdown",
   "metadata": {},
   "source": [
    "##### Using 'in' keyword"
   ]
  },
  {
   "cell_type": "code",
   "execution_count": 1,
   "metadata": {},
   "outputs": [
    {
     "name": "stdout",
     "output_type": "stream",
     "text": [
      "0\n",
      "1\n",
      "4\n",
      "9\n",
      "16\n",
      "25\n",
      "36\n",
      "49\n",
      "64\n",
      "81\n",
      "100\n",
      "121\n",
      "144\n",
      "169\n",
      "196\n"
     ]
    }
   ],
   "source": [
    "#in is what accesses the items in an iterable\n",
    "for num in range(15):\n",
    "    print(num**2)"
   ]
  },
  {
   "cell_type": "code",
   "execution_count": 2,
   "metadata": {},
   "outputs": [
    {
     "name": "stdout",
     "output_type": "stream",
     "text": [
      "yay its here\n"
     ]
    }
   ],
   "source": [
    "name = \"mega man\"\n",
    "if \"g\" in name: \n",
    "    print(\"yay its here\")\n",
    "else:\n",
    "    print(\"its not here\")"
   ]
  },
  {
   "cell_type": "markdown",
   "metadata": {},
   "source": [
    "##### Continue Statement"
   ]
  },
  {
   "cell_type": "code",
   "execution_count": null,
   "metadata": {},
   "outputs": [],
   "source": [
    "#continue\n",
    "for num in range(20):\n",
    "    print(num)\n",
    "\n",
    "# continue on to the next iteration\n",
    "for i in range(20):\n",
    "    if i == 5 or i ==:\n",
    "        continue\n",
    "    print(i)\n"
   ]
  },
  {
   "cell_type": "markdown",
   "metadata": {},
   "source": [
    "##### Break Statement"
   ]
  },
  {
   "cell_type": "code",
   "execution_count": null,
   "metadata": {},
   "outputs": [],
   "source": [
    "# will break out of current loop\n",
    "# we use break as part of a condition\n",
    "for num in range(10):\n",
    "    print(num)\n",
    "print(\"\\n\")\n",
    "\n",
    "#using the break keyword with a condition\n",
    "for num in range(10):\n",
    "    if num == 7:\n",
    "        break\n",
    "    print(num)\n"
   ]
  },
  {
   "cell_type": "markdown",
   "metadata": {},
   "source": [
    "##### Pass Statement"
   ]
  },
  {
   "cell_type": "code",
   "execution_count": null,
   "metadata": {},
   "outputs": [],
   "source": [
    "# mostly used as a placeholder, and will continue on same iteration\n",
    "for i in range(20):\n",
    "\n",
    "def my_func():\n",
    "    pass\n",
    "\n",
    "    "
   ]
  },
  {
   "cell_type": "code",
   "execution_count": 6,
   "metadata": {},
   "outputs": [
    {
     "name": "stdout",
     "output_type": "stream",
     "text": [
      "Y\n",
      "u\n",
      "g\n",
      "i\n",
      " \n",
      "M\n",
      "o\n",
      "t\n",
      "o\n",
      "\n",
      "\n",
      "0 Y Y\n",
      "1 u u\n",
      "2 g g\n",
      "3 i i\n",
      "4    \n",
      "5 M M\n",
      "6 o o\n",
      "7 t t\n",
      "8 o o\n",
      "\n",
      "\n",
      "Y\n",
      "u\n",
      "g\n",
      "i\n",
      " \n",
      "M\n",
      "o\n",
      "t\n",
      "o\n"
     ]
    }
   ],
   "source": [
    "cool_person = \"Yugi Moto\"\n",
    "#loop through cool_person using the three for loops we talked about earlier\n",
    "#loop by value\n",
    "#loop by index\n",
    "#loop with enumerate\n",
    "\"\"\"\n",
    "output:\n",
    "Y\n",
    "u\n",
    "g\n",
    "i\n",
    "\n",
    "M\n",
    "o\n",
    "t\n",
    "o\n",
    "\n",
    "\"\"\"\n",
    "\n",
    "# Loop by index\n",
    "for i in range(len(cool_person)):\n",
    "    print(cool_person[i])\n",
    "print(\"\\n\")\n",
    "# Loop with enumerate\n",
    "for i, v in enumerate(cool_person):\n",
    "    print(i, v, cool_person[i])\n",
    "print(\"\\n\")\n",
    "# Loop by value\n",
    "for char in cool_person:\n",
    "    print(char)\n",
    "               "
   ]
  },
  {
   "cell_type": "markdown",
   "metadata": {},
   "source": [
    "##### Double For Loops"
   ]
  },
  {
   "cell_type": "code",
   "execution_count": 10,
   "metadata": {},
   "outputs": [
    {
     "name": "stdout",
     "output_type": "stream",
     "text": [
      "\n",
      "\n",
      "i =  0 j =  0\n",
      "i =  0 j =  1\n",
      "i =  0 j =  2\n",
      "i =  0 j =  3\n",
      "i =  0 j =  4\n",
      "\n",
      "\n",
      "i =  1 j =  0\n",
      "i =  1 j =  1\n",
      "i =  1 j =  2\n",
      "i =  1 j =  3\n",
      "i =  1 j =  4\n",
      "\n",
      "\n",
      "i =  2 j =  0\n",
      "i =  2 j =  1\n",
      "i =  2 j =  2\n",
      "i =  2 j =  3\n",
      "i =  2 j =  4\n",
      "\n",
      "\n",
      "i =  3 j =  0\n",
      "i =  3 j =  1\n",
      "i =  3 j =  2\n",
      "i =  3 j =  3\n",
      "i =  3 j =  4\n",
      "\n",
      "\n",
      "i =  4 j =  0\n",
      "i =  4 j =  1\n",
      "i =  4 j =  2\n",
      "i =  4 j =  3\n",
      "i =  4 j =  4\n"
     ]
    }
   ],
   "source": [
    "for i in range(5):\n",
    "    print(\"\\n\")\n",
    "    for j in range(5):\n",
    "        print(\"i = \", i, \"j = \", j)"
   ]
  },
  {
   "cell_type": "code",
   "execution_count": 12,
   "metadata": {},
   "outputs": [
    {
     "name": "stdout",
     "output_type": "stream",
     "text": [
      "d\n",
      "\n",
      "\n",
      "d\n",
      "u\n",
      "c\n",
      "k\n",
      "u\n",
      "\n",
      "\n",
      "d\n",
      "u\n",
      "c\n",
      "k\n",
      "c\n",
      "\n",
      "\n",
      "d\n",
      "u\n",
      "c\n",
      "k\n",
      "k\n",
      "\n",
      "\n",
      "d\n",
      "u\n",
      "c\n",
      "k\n"
     ]
    }
   ],
   "source": [
    "name = \"duck\"\n",
    "name2 = \"goose\"\n",
    "\n",
    "for char in name:\n",
    "    print(char)\n",
    "    print(\"\\n\")\n",
    "    for char2 in name:\n",
    "        print(char2)"
   ]
  },
  {
   "cell_type": "markdown",
   "metadata": {},
   "source": [
    "### While Loops"
   ]
  },
  {
   "cell_type": "code",
   "execution_count": 15,
   "metadata": {},
   "outputs": [
    {
     "name": "stdout",
     "output_type": "stream",
     "text": [
      "1\n",
      "2\n",
      "3\n",
      "4\n",
      "5\n",
      "6\n",
      "7\n",
      "8\n",
      "9\n",
      "10\n",
      "11\n",
      "\n",
      "\n",
      "0\n",
      "1\n",
      "4\n",
      "9\n",
      "16\n",
      "25\n",
      "36\n",
      "49\n",
      "64\n",
      "81\n",
      "100\n",
      "121\n",
      "144\n",
      "169\n",
      "196\n"
     ]
    }
   ],
   "source": [
    "#while keyword, condition statement\n",
    "#while loop will run based on the condition statement\n",
    "\n",
    "counter = 0\n",
    "while counter < 11:\n",
    "   \n",
    "    counter +=1\n",
    "    print(counter)\n",
    "\n",
    "print(\"\\n\")\n",
    "\n",
    "num = 0\n",
    "while num < 15:\n",
    "    print(num**2)\n",
    "    num += 1\n"
   ]
  },
  {
   "cell_type": "markdown",
   "metadata": {},
   "source": [
    "##### looping 'While True'"
   ]
  },
  {
   "cell_type": "code",
   "execution_count": 16,
   "metadata": {},
   "outputs": [
    {
     "name": "stdout",
     "output_type": "stream",
     "text": [
      "infinite loop\n"
     ]
    }
   ],
   "source": [
    "# true as a condition for while loop to run\n",
    "game_over = False\n",
    "while True:\n",
    "    print(\"infinite loop\")\n",
    "    if game_over == False:\n",
    "        break"
   ]
  },
  {
   "cell_type": "code",
   "execution_count": 17,
   "metadata": {},
   "outputs": [
    {
     "name": "stdin",
     "output_type": "stream",
     "text": [
      "what is your name? Justin\n"
     ]
    },
    {
     "name": "stdout",
     "output_type": "stream",
     "text": [
      "Justin\n"
     ]
    },
    {
     "name": "stdin",
     "output_type": "stream",
     "text": [
      "what is your name? tom\n"
     ]
    },
    {
     "name": "stdout",
     "output_type": "stream",
     "text": [
      "tom\n"
     ]
    },
    {
     "name": "stdin",
     "output_type": "stream",
     "text": [
      "what is your name? jon\n"
     ]
    },
    {
     "name": "stdout",
     "output_type": "stream",
     "text": [
      "jon\n"
     ]
    },
    {
     "name": "stdin",
     "output_type": "stream",
     "text": [
      "what is your name? jon\n"
     ]
    },
    {
     "name": "stdout",
     "output_type": "stream",
     "text": [
      "jon\n"
     ]
    },
    {
     "name": "stdin",
     "output_type": "stream",
     "text": [
      "what is your name? dd\n"
     ]
    },
    {
     "name": "stdout",
     "output_type": "stream",
     "text": [
      "dd\n"
     ]
    },
    {
     "name": "stdin",
     "output_type": "stream",
     "text": [
      "what is your name? dd\n"
     ]
    },
    {
     "name": "stdout",
     "output_type": "stream",
     "text": [
      "dd\n"
     ]
    },
    {
     "name": "stdin",
     "output_type": "stream",
     "text": [
      "what is your name? quit\n"
     ]
    },
    {
     "name": "stdout",
     "output_type": "stream",
     "text": [
      "bye bye\n"
     ]
    }
   ],
   "source": [
    "# while loop with while True with user input\n",
    "# the loop will break when the user enters quit\n",
    "while True:\n",
    "    name = input(\"what is your name?\")\n",
    "    if name == \"quit\":\n",
    "        print(\"bye bye\")\n",
    "        break\n",
    "    print(name)"
   ]
  },
  {
   "cell_type": "code",
   "execution_count": null,
   "metadata": {},
   "outputs": [],
   "source": [
    "game = True\n",
    "\n",
    "my_list = [1,2,3,4,5,6]\n",
    "index = 0\n",
    "while game: #while True because game == True\n",
    "    if my_list[index] == 4:\n",
    "        game = False  #if the above condition is met, we change game (our flag) to False which breaks the while Loop\n",
    "    print(my_list[index])\n",
    "    index += 1"
   ]
  },
  {
   "cell_type": "markdown",
   "metadata": {},
   "source": [
    "##### While & For Loops Used Together"
   ]
  },
  {
   "cell_type": "code",
   "execution_count": null,
   "metadata": {},
   "outputs": [],
   "source": [
    "j = 0\n",
    "\n",
    "while j < 10:\n",
    "    print(\"\\n While Loop Iteration\", j)\n",
    "\n",
    "    for i in range(2):\n",
    "        print(\"For Loop iteration\", i)\n",
    "\n",
    "    j += 1"
   ]
  },
  {
   "cell_type": "code",
   "execution_count": null,
   "metadata": {},
   "outputs": [],
   "source": [
    "j = 1\n",
    "\n",
    "while j < 10:\n",
    "    print(\"\\n hand stand push ups set\", j)\n",
    "    \n",
    "    for i in range(5):\n",
    "        if i == 0:\n",
    "            continue\n",
    "        print(\"hand stand push ups rep\", i)\n",
    "        \n",
    "    j += 1"
   ]
  },
  {
   "cell_type": "markdown",
   "metadata": {},
   "source": [
    "##### The Range Function"
   ]
  },
  {
   "cell_type": "code",
   "execution_count": 18,
   "metadata": {},
   "outputs": [
    {
     "name": "stdout",
     "output_type": "stream",
     "text": [
      "0\n",
      "1\n",
      "2\n",
      "3\n",
      "4\n",
      "5\n",
      "6\n",
      "7\n",
      "8\n",
      "9\n",
      "\n",
      "\n",
      "1\n",
      "2\n",
      "3\n",
      "4\n",
      "5\n",
      "6\n",
      "7\n",
      "8\n",
      "9\n",
      "\n",
      "\n",
      "1\n",
      "3\n",
      "5\n",
      "7\n",
      "9\n"
     ]
    }
   ],
   "source": [
    "# range(start, stop, step) - stop is required and start defaults to 0 if none is given\n",
    "#                stop\n",
    "for num in range(10):\n",
    "    print(num)\n",
    "print(\"\\n\")\n",
    "#               start stop\n",
    "for num in range(1,10):\n",
    "    print(num)\n",
    "print(\"\\n\")\n",
    "#               start, stop, step\n",
    "for num in range(1, 10, 2):\n",
    "    print(num)"
   ]
  },
  {
   "cell_type": "markdown",
   "metadata": {},
   "source": [
    "### String Manipulation Exercise"
   ]
  },
  {
   "cell_type": "code",
   "execution_count": 20,
   "metadata": {},
   "outputs": [
    {
     "name": "stdout",
     "output_type": "stream",
     "text": [
      "Ryan\n",
      "Alex\n",
      "Alex2\n",
      "Will\n",
      "Connor\n",
      "Max\n",
      "Evan\n",
      "Jordan\n"
     ]
    }
   ],
   "source": [
    "# Looping through a list\n",
    "my_names = [\"Ryan\", \"Alex\", \"Alex2\", \"Will\"]\n",
    "for name in my_names:\n",
    "    print(name)\n",
    "\n",
    "names = ['    coNNor', 'max', ' EVan ', 'JORDAN']\n",
    "# HINT: You will need to use a for loop for iteration\n",
    "# Loop through the names list, remove white space and capitalize the first letter of each name. Print each new name.\n",
    "\n",
    "for i in names:\n",
    "    print(i.strip().title())"
   ]
  },
  {
   "cell_type": "code",
   "execution_count": 21,
   "metadata": {},
   "outputs": [
    {
     "name": "stdout",
     "output_type": "stream",
     "text": [
      "['Connor', 'Max', 'Evan', 'Jordan']\n",
      "Connor\n",
      "Max\n",
      "Evan\n",
      "Jordan\n"
     ]
    }
   ],
   "source": [
    "clean_names = []\n",
    "for name in names:\n",
    "    clean_names.append(name.strip().title())\n",
    "\n",
    "print(clean_names)\n",
    "\n",
    "for name in clean_names:\n",
    "    print(name)"
   ]
  },
  {
   "cell_type": "markdown",
   "metadata": {},
   "source": [
    "## Lists"
   ]
  },
  {
   "cell_type": "markdown",
   "metadata": {},
   "source": [
    "##### Declaring Lists"
   ]
  },
  {
   "cell_type": "code",
   "execution_count": 23,
   "metadata": {},
   "outputs": [
    {
     "name": "stdout",
     "output_type": "stream",
     "text": [
      "['Ryan', 'Alex', 'Justin', 'Liz', 'Alex']\n",
      "['Dog', 2, [1, 2, 3, 4], 'person']\n"
     ]
    }
   ],
   "source": [
    "our_list = []  #<-- empty list\n",
    "\n",
    "names = [\"Ryan\", \"Alex\", \"Justin\", \"Liz\", \"Alex\"]\n",
    "numbers = [1,2,3,4,5,6]\n",
    "things = [\"Dog\", 2, [1,2,3,4], \"person\"]\n",
    "print(names)\n",
    "print(things)"
   ]
  },
  {
   "cell_type": "markdown",
   "metadata": {},
   "source": [
    "##### Indexing a List"
   ]
  },
  {
   "cell_type": "code",
   "execution_count": 25,
   "metadata": {},
   "outputs": [
    {
     "name": "stdout",
     "output_type": "stream",
     "text": [
      "Alex\n",
      "Justin\n",
      "Razvan\n",
      "['Alex', 'Justin', 'Liz', 'Alex', 'Razvan']\n",
      "['Ryan', 'Alex', 'Justin']\n",
      "['Alex', 'Liz', 'Razvan']\n",
      "['Razvan', 'Alex', 'Liz', 'Justin', 'Alex', 'Ryan']\n",
      "['Razvan', 'Alex', 'Liz', 'Justin', 'Alex', 'Ryan']\n"
     ]
    }
   ],
   "source": [
    "# [start: stop: step] --> last item [-1]\n",
    "#           0       1        2       3       4        5\n",
    "names = [\"Ryan\", \"Alex\", \"Justin\", \"Liz\", \"Alex\", \"Razvan\"]\n",
    "# single index\n",
    "print(names[4])\n",
    "print(names[2])\n",
    "# regardless of list length, -1 will always be the last index (position)\n",
    "print(names[-1])\n",
    "\n",
    "# LIST SLICING\n",
    "# print portion of list starting at index 1 and going to the end of the list\n",
    "print(names[1:])\n",
    "# print starting at the beginning and go to a specified index\n",
    "print(names[:3])\n",
    "# stepping through list by 2\n",
    "print(names[1::2])\n",
    "# print stepping backwards through the list\n",
    "print(names[::-1])\n",
    "\n",
    "reversed_names = names[::-1]\n",
    "print(reversed_names)\n"
   ]
  },
  {
   "cell_type": "markdown",
   "metadata": {},
   "source": [
    "### List Methods"
   ]
  },
  {
   "cell_type": "markdown",
   "metadata": {},
   "source": [
    "##### .append()"
   ]
  },
  {
   "cell_type": "code",
   "execution_count": 33,
   "metadata": {},
   "outputs": [
    {
     "name": "stdout",
     "output_type": "stream",
     "text": [
      "['Ryan', 'Alex', 'Justin', 'Liz', 'Alex', 'Razvan', 'Will']\n",
      "['Ryan', 'Alex', 'Justin', 'Liz', 'Alex', 'Razvan', 'Will', 'Mo']\n"
     ]
    }
   ],
   "source": [
    "# list.append(thing you're appending)\n",
    "# append will always add to the back of the list\n",
    "names = [\"Ryan\", \"Alex\", \"Justin\", \"Liz\", \"Alex\", \"Razvan\"]\n",
    "\n",
    "names.append(\"Will\")\n",
    "print(names)\n",
    "\n",
    "names.append(\"Mo\")\n",
    "print(names)"
   ]
  },
  {
   "cell_type": "markdown",
   "metadata": {},
   "source": [
    "##### .insert()"
   ]
  },
  {
   "cell_type": "code",
   "execution_count": 34,
   "metadata": {},
   "outputs": [
    {
     "name": "stdout",
     "output_type": "stream",
     "text": [
      "['Ryan', 'Morgan', 'Alex', 'Justin', 'Liz', 'Alex', 'Razvan', 'Will', 'Mo']\n",
      "['Ryan', 'Morgan', 'Alex', 'jeiavonni', 'Justin', 'Liz', 'Alex', 'Razvan', 'Will', 'Mo']\n"
     ]
    }
   ],
   "source": [
    "#our_list.insert(index, value)\n",
    "\n",
    "names.insert(1, \"Morgan\")\n",
    "\n",
    "print(names)\n",
    "\n",
    "names.insert(3, \"jeiavonni\")\n",
    "print(names)"
   ]
  },
  {
   "cell_type": "markdown",
   "metadata": {},
   "source": [
    "##### .pop()"
   ]
  },
  {
   "cell_type": "code",
   "execution_count": null,
   "metadata": {},
   "outputs": [],
   "source": [
    "# list.pop(optional index to pop out)\n",
    "# default is the last value if no parameter is given\n",
    "# pop returns the element that was removed in case you want to assign it into a variable\n",
    "popped_name = names.pop(6)\n",
    "print(names)\n",
    "print(popped_name)\n",
    "\n",
    "print(names.pop())\n",
    "\n",
    "\n",
    "\n",
    "\n",
    "\n"
   ]
  },
  {
   "cell_type": "code",
   "execution_count": null,
   "metadata": {},
   "outputs": [],
   "source": [
    "names.pop()"
   ]
  },
  {
   "cell_type": "markdown",
   "metadata": {},
   "source": [
    "##### .remove()"
   ]
  },
  {
   "cell_type": "code",
   "execution_count": 36,
   "metadata": {},
   "outputs": [
    {
     "name": "stdout",
     "output_type": "stream",
     "text": [
      "['Morgan', 'Alex', 'jeiavonni', 'Justin', 'Liz', 'Alex', 'Razvan', 'Will', 'Mo']\n"
     ]
    },
    {
     "ename": "ValueError",
     "evalue": "list.remove(x): x not in list",
     "output_type": "error",
     "traceback": [
      "\u001b[1;31m---------------------------------------------------------------------------\u001b[0m",
      "\u001b[1;31mValueError\u001b[0m                                Traceback (most recent call last)",
      "Cell \u001b[1;32mIn[36], line 4\u001b[0m\n\u001b[0;32m      1\u001b[0m \u001b[38;5;66;03m# list.remove(thing / element to be removed)\u001b[39;00m\n\u001b[0;32m      2\u001b[0m \u001b[38;5;66;03m# value to be removed, not an index\u001b[39;00m\n\u001b[0;32m      3\u001b[0m \u001b[38;5;28mprint\u001b[39m(names)\n\u001b[1;32m----> 4\u001b[0m \u001b[43mnames\u001b[49m\u001b[38;5;241;43m.\u001b[39;49m\u001b[43mremove\u001b[49m\u001b[43m(\u001b[49m\u001b[38;5;124;43m\"\u001b[39;49m\u001b[38;5;124;43mRyan\u001b[39;49m\u001b[38;5;124;43m\"\u001b[39;49m\u001b[43m)\u001b[49m\n\u001b[0;32m      5\u001b[0m \u001b[38;5;28mprint\u001b[39m(names)\n",
      "\u001b[1;31mValueError\u001b[0m: list.remove(x): x not in list"
     ]
    }
   ],
   "source": [
    "# list.remove(thing / element to be removed)\n",
    "# value to be removed, not an index\n",
    "print(names)\n",
    "names.remove(\"Ryan\")\n",
    "print(names)"
   ]
  },
  {
   "cell_type": "markdown",
   "metadata": {},
   "source": [
    "### Working With Lists"
   ]
  },
  {
   "cell_type": "markdown",
   "metadata": {},
   "source": [
    "##### del()"
   ]
  },
  {
   "cell_type": "code",
   "execution_count": 43,
   "metadata": {},
   "outputs": [
    {
     "name": "stdout",
     "output_type": "stream",
     "text": [
      "['Morgan', 'Will', 'Mo']\n",
      "['Morgan', 'Mo']\n"
     ]
    }
   ],
   "source": [
    "# index to be removed, not value \n",
    "print(names)\n",
    "del names[1]\n",
    "print(names)\n",
    "\n"
   ]
  },
  {
   "cell_type": "markdown",
   "metadata": {},
   "source": [
    "##### min()"
   ]
  },
  {
   "cell_type": "code",
   "execution_count": 47,
   "metadata": {},
   "outputs": [
    {
     "name": "stdout",
     "output_type": "stream",
     "text": [
      "1\n",
      "Alex\n"
     ]
    }
   ],
   "source": [
    "# return the smallest item in a list\n",
    "numbers = [2,5,1,6,47,12]\n",
    "print(min(numbers))\n",
    "names = [\"Ryan\", \"Alex\", \"Justin\", \"Liz\", \"Alex\", \"Razvan\"]\n",
    "print(min(names))"
   ]
  },
  {
   "cell_type": "markdown",
   "metadata": {},
   "source": [
    "##### max()"
   ]
  },
  {
   "cell_type": "code",
   "execution_count": 48,
   "metadata": {},
   "outputs": [
    {
     "name": "stdout",
     "output_type": "stream",
     "text": [
      "47\n",
      "Ryan\n"
     ]
    }
   ],
   "source": [
    "# returns largest item in a list\n",
    "numbers = [2,5,1,6,47,12]\n",
    "print(max(numbers))\n",
    "names = [\"Ryan\", \"Alex\", \"Justin\", \"Liz\", \"Alex\", \"Razvan\"]\n",
    "print(max(names))"
   ]
  },
  {
   "cell_type": "markdown",
   "metadata": {},
   "source": [
    "##### sum()"
   ]
  },
  {
   "cell_type": "code",
   "execution_count": 53,
   "metadata": {},
   "outputs": [
    {
     "name": "stdout",
     "output_type": "stream",
     "text": [
      "73\n"
     ]
    }
   ],
   "source": [
    "# return the sum of all numbers in a list\n",
    "numbers = [2,5,1,6,47,12]\n",
    "print(sum(numbers))"
   ]
  },
  {
   "cell_type": "markdown",
   "metadata": {},
   "source": [
    "##### sorted()"
   ]
  },
  {
   "cell_type": "code",
   "execution_count": 54,
   "metadata": {},
   "outputs": [
    {
     "name": "stdout",
     "output_type": "stream",
     "text": [
      "[1, 2, 5, 6, 12, 47]\n",
      "[1, 2, 5, 6, 12, 47]\n",
      "[2, 5, 1, 6, 47, 12]\n"
     ]
    }
   ],
   "source": [
    "#sorted will return a new sorted list, create a new variable\n",
    "numbers = [2,5,1,6,47,12]\n",
    "print(sorted(numbers))\n",
    "sorted_nums = sorted(numbers)\n",
    "print(sorted_nums)\n",
    "print(numbers)"
   ]
  },
  {
   "cell_type": "markdown",
   "metadata": {},
   "source": [
    "##### .sort() <br>\n",
    "<p>Difference between sort and sorted, is that sorted doesn't change original list it returns a copy, while .sort changes the original list</p>"
   ]
  },
  {
   "cell_type": "code",
   "execution_count": 52,
   "metadata": {},
   "outputs": [
    {
     "name": "stdout",
     "output_type": "stream",
     "text": [
      "[1, 2, 5, 6, 12, 47]\n",
      "['Alex', 'Alex', 'Justin', 'Liz', 'Razvan', 'Ryan']\n"
     ]
    }
   ],
   "source": [
    "#.sort() will sort the original list\n",
    "numbers = [2,5,1,6,47,12]\n",
    "numbers.sort()\n",
    "# print(sorted_nums)\n",
    "print(numbers)\n",
    "names = [\"Ryan\", \"Alex\", \"Justin\", \"Liz\", \"Alex\", \"Razvan\"]\n",
    "names.sort()\n",
    "print(names)"
   ]
  },
  {
   "cell_type": "markdown",
   "metadata": {},
   "source": [
    "##### Copying a List"
   ]
  },
  {
   "cell_type": "code",
   "execution_count": 55,
   "metadata": {},
   "outputs": [
    {
     "name": "stdout",
     "output_type": "stream",
     "text": [
      "['Ryan', 'Alex', 'Justin', 'Liz', 'Alex', 'Razvan']\n",
      "['Ryan', 'Alex', 'Justin', 'Liz', 'Alex', 'Razvan']\n"
     ]
    }
   ],
   "source": [
    "# [:] copies a list, doesn't alter original'\n",
    "names = [\"Ryan\", \"Alex\", \"Justin\", \"Liz\", \"Alex\", \"Razvan\"]\n",
    "print(names[:])\n",
    "names_copy = names[:]\n",
    "print(names_copy)"
   ]
  },
  {
   "cell_type": "markdown",
   "metadata": {},
   "source": [
    "##### Looping Through Lists"
   ]
  },
  {
   "cell_type": "code",
   "execution_count": 56,
   "metadata": {},
   "outputs": [
    {
     "name": "stdout",
     "output_type": "stream",
     "text": [
      "0 Han Solo\n",
      "1 Leia Organa\n",
      "2 Luke Skywalker\n",
      "3 Lando Calrissian\n",
      "4 Mace Windu\n",
      "\n",
      "\n",
      "Han Solo\n",
      "Leia Organa\n",
      "Luke Skywalker\n",
      "Lando Calrissian\n",
      "Mace Windu\n",
      "\n",
      "\n",
      "Han Solo\n",
      "Leia Organa\n",
      "Luke Skywalker\n",
      "Lando Calrissian\n",
      "Mace Windu\n"
     ]
    }
   ],
   "source": [
    "#Two ways to loop through a list. one is by index and the other is by value, using the \"in\" keyword\n",
    "names = [\"Han Solo\", \"Leia Organa\", \"Luke Skywalker\", \"Lando Calrissian\", \"Mace Windu\"]\n",
    "\n",
    "# Looping by enumerate\n",
    "for i,n in enumerate(names):\n",
    "    print(i, n)\n",
    "print(\"\\n\")\n",
    "# Looping by index\n",
    "for i in range(len(names)):\n",
    "    print(names[i])\n",
    "print(\"\\n\")\n",
    "# Looping by value\n",
    "for name in names:\n",
    "    print(name)"
   ]
  },
  {
   "cell_type": "markdown",
   "metadata": {},
   "source": [
    "##### 'in' keyword"
   ]
  },
  {
   "cell_type": "code",
   "execution_count": 57,
   "metadata": {},
   "outputs": [
    {
     "name": "stdout",
     "output_type": "stream",
     "text": [
      "Yay liz\n"
     ]
    }
   ],
   "source": [
    "names = [\"Ryan\", \"Alex\", \"Justin\", \"Liz\", \"Alex\", \"Razvan\"]\n",
    "\n",
    "if \"Liz\" in names:\n",
    "    print(\"Yay liz\")\n",
    "else:\n",
    "    print(\"boo no Liz\")"
   ]
  },
  {
   "cell_type": "markdown",
   "metadata": {},
   "source": [
    "##### 'not in' keyword"
   ]
  },
  {
   "cell_type": "code",
   "execution_count": 58,
   "metadata": {},
   "outputs": [
    {
     "name": "stdout",
     "output_type": "stream",
     "text": [
      "no Frederick\n"
     ]
    }
   ],
   "source": [
    "names = [\"Ryan\", \"Alex\", \"Justin\", \"Liz\", \"Alex\", \"Razvan\"]\n",
    "if \"Frederick\" not in names:\n",
    "    print(\"no Frederick\")\n",
    "else:\n",
    "    print(\"Frederick\")"
   ]
  },
  {
   "cell_type": "markdown",
   "metadata": {},
   "source": [
    "##### Checking an Empty List"
   ]
  },
  {
   "cell_type": "code",
   "execution_count": 60,
   "metadata": {},
   "outputs": [
    {
     "name": "stdout",
     "output_type": "stream",
     "text": [
      "that list is empty\n",
      "no\n",
      "this lsit doesn't have stuff\n"
     ]
    }
   ],
   "source": [
    "l_2 = []\n",
    "l_3 = None\n",
    "\n",
    "if l_2 == []:\n",
    "    print(\"that list is empty\")\n",
    "\n",
    "if l_2 == l_3:\n",
    "    print(\"yes\")\n",
    "else:\n",
    "    print(\"no\")\n",
    "\n",
    "if l_2:\n",
    "    print(\"this list has stuff\")\n",
    "else:\n",
    "    print(\"this lsit doesn't have stuff\")"
   ]
  },
  {
   "cell_type": "markdown",
   "metadata": {},
   "source": [
    "##### Removing Instances with a Loop"
   ]
  },
  {
   "cell_type": "code",
   "execution_count": 62,
   "metadata": {},
   "outputs": [
    {
     "name": "stdout",
     "output_type": "stream",
     "text": [
      "['Ryan', 'Justin', 'Liz', 'Alex', 'Razvan', 'Frederick']\n",
      "['Ryan', 'Justin', 'Liz', 'Razvan', 'Frederick']\n"
     ]
    }
   ],
   "source": [
    "#while, remove\n",
    "names = [\"Ryan\", \"Justin\", \"Liz\", \"Alex\", \"Alex\", \"Razvan\", \"Frederick\"]\n",
    "for name in names:\n",
    "    if name == \"Alex\":\n",
    "        names.remove(name)\n",
    "print(names)\n",
    "names = [\"Ryan\", \"Justin\", \"Liz\", \"Alex\", \"Alex\", \"Razvan\", \"Frederick\"]\n",
    "# using while loop with remove\n",
    "while \"Alex\" in names:\n",
    "    names.remove(\"Alex\")\n",
    "print(names)"
   ]
  },
  {
   "cell_type": "markdown",
   "metadata": {},
   "source": [
    "### List Exercise <br>\n",
    "<p>Remove all duplicates<br><b>Extra: Create a program that will remove any duplicates from a given list</b></p>"
   ]
  },
  {
   "cell_type": "code",
   "execution_count": 63,
   "metadata": {},
   "outputs": [
    {
     "name": "stdout",
     "output_type": "stream",
     "text": [
      "['connor', 'bob', 'evan', 'max', 2, 3, 4, 'kevin']\n"
     ]
    }
   ],
   "source": [
    "names = ['connor', 'connor', 'bob', 'connor', 'evan', 'max', 'evan', 2, 2, 2, 3, 3, 4, 'bob', 'kevin']\n",
    "# Hint 1: You will need an append\n",
    "# Hint 2: Using an empty list will make life easier\n",
    "\n",
    "no_repeat = []\n",
    "\n",
    "for name in names:\n",
    "    if name not in no_repeat:\n",
    "        no_repeat.append(name)\n",
    "print(no_repeat)\n"
   ]
  },
  {
   "cell_type": "code",
   "execution_count": 1,
   "metadata": {},
   "outputs": [
    {
     "name": "stdout",
     "output_type": "stream",
     "text": [
      "[4, 16, 36, 64, 100]\n"
     ]
    }
   ],
   "source": [
    "# square all of the even nuymbers\n",
    "nums = [1, 2, 3, 4, 5, 6, 7, 8, 9, 10]\n",
    "square_nums = []\n",
    "\n",
    "for num in nums:\n",
    "    if num % 2 == 0:\n",
    "        square_nums.append(num**2)\n",
    "print(square_nums)\n"
   ]
  },
  {
   "cell_type": "markdown",
   "metadata": {},
   "source": [
    "### List Comprehensions <br>\n",
    "<p>Creating a quickly generated list to work with<br>*result*  = [*transform*    *iteration*         *filter*     ]</p>"
   ]
  },
  {
   "cell_type": "markdown",
   "metadata": {},
   "source": [
    "##### In a list comprehension we have a few pieces:\n",
    "1. The first is the counter/ variable - IN this the variable is x\n",
    "2. then we have a transform for the variable\n",
    "3. The finale part of a list comp is called the condition\n",
    "\n",
    "```python\n",
    "    [transform, iteration/variable, condition]\n",
    "```"
   ]
  },
  {
   "cell_type": "code",
   "execution_count": 67,
   "metadata": {
    "scrolled": true
   },
   "outputs": [
    {
     "name": "stdout",
     "output_type": "stream",
     "text": [
      "[4, 16, 36, 64, 100]\n",
      "[4, 16, 36, 64, 100]\n"
     ]
    }
   ],
   "source": [
    "# Square every even number\n",
    "nums = [2, 4, 5, 6, 7, 8, 9, 10]\n",
    "nums_squared = [x**2 for x in nums if x%2 == 0]\n",
    "print(nums_squared)\n",
    "\n",
    "squared_nums = []\n",
    "for x in nums:\n",
    "    if x%2 == 0:\n",
    "        squared_nums.append(x**2)\n",
    "print(squared_nums)\n",
    "\n",
    "\n"
   ]
  },
  {
   "cell_type": "code",
   "execution_count": 66,
   "metadata": {},
   "outputs": [
    {
     "name": "stdout",
     "output_type": "stream",
     "text": [
      "[1, 2, 4, 5, 6, 7, 8, 9, 10]\n"
     ]
    }
   ],
   "source": [
    "nums = [1, 2, 4, 5, 6, 7, 8, 9, 10]\n",
    "new_nums = [x for x in nums]\n",
    "print(new_nums)"
   ]
  },
  {
   "cell_type": "markdown",
   "metadata": {},
   "source": [
    "There are a few benefits to using List comprehensions. The most obvious would be that we now have shorter code to work with instead of using 3+ lines of code in the for loop variant.\n",
    "\n",
    "Another is an added benefit to memory usage. Since the list's memory is allocated first before adding elements to it, we don't have to resize the list once we add elements to it.\n",
    "\n",
    "Lastly, list comprehensions are considered the \"pythonic\" way to write code by the PEP8 standards (Python Style Guide)"
   ]
  },
  {
   "cell_type": "markdown",
   "metadata": {},
   "source": [
    "### Tuples <br>\n",
    "<p><b>Defined as an immutable list</b></p><br>Seperated by commas using parenthesis"
   ]
  },
  {
   "cell_type": "code",
   "execution_count": 70,
   "metadata": {},
   "outputs": [
    {
     "name": "stdout",
     "output_type": "stream",
     "text": [
      "(4, 5, 6)\n",
      "<class 'tuple'>\n",
      "tuple length 3\n",
      "4\n",
      "5\n",
      "6\n",
      "1\n",
      "2\n",
      "3\n"
     ]
    }
   ],
   "source": [
    "tup_1 = (1, 2, 3) #one way to create a tuple, items separated by commas in parentheses\n",
    "tup_2 = 4, 5, 6 #another way is just items separated by commas\n",
    "print(tup_2)\n",
    "\n",
    "print(type(tup_1))\n",
    "\n",
    "print(\"tuple length\", len(tup_2))\n",
    "\n",
    "for num in tup_2:\n",
    "    print(num)\n",
    "\n",
    "for i in range(len(tup_1)):\n",
    "    print(tup_1[i])"
   ]
  },
  {
   "cell_type": "markdown",
   "metadata": {},
   "source": [
    "##### sorted()"
   ]
  },
  {
   "cell_type": "code",
   "execution_count": 72,
   "metadata": {},
   "outputs": [
    {
     "name": "stdout",
     "output_type": "stream",
     "text": [
      "[1, 5, 10, 20, 95, 123]\n",
      "[5, 12, 23, 76, 234, 654]\n",
      "(1, 5, 10, 20, 95, 123)\n",
      "(1, 5, 10, 20, 95, 123, 5, 12, 23, 76, 234, 654)\n"
     ]
    }
   ],
   "source": [
    "tup = (20, 5, 1, 10, 95, 123)\n",
    "sorted_tup_list = sorted(tup)\n",
    "print(sorted_tup_list)\n",
    "\n",
    "some_list = [5, 12, 654, 234, 76, 23]\n",
    "sorted_list = sorted(some_list)\n",
    "print(sorted_list)\n",
    "sorted_list = tuple(sorted_list)\n",
    "new_tup = tuple(sorted_tup_list)\n",
    "print(new_tup)\n",
    "\n",
    "# tuple concatenation\n",
    "new_new_tup = new_tup + sorted_list\n",
    "print(new_new_tup)"
   ]
  },
  {
   "cell_type": "code",
   "execution_count": 73,
   "metadata": {},
   "outputs": [
    {
     "name": "stdout",
     "output_type": "stream",
     "text": [
      "[1, 2, 3, 4, 5, 6, 7, 8, 9, 10]\n"
     ]
    }
   ],
   "source": [
    "# list concatenation\n",
    "my_list = [1, 2, 3, 4, 5]\n",
    "my_list2 = [6, 7, 8, 9, 10]\n",
    "\n",
    "new_list = my_list + my_list2\n",
    "print(new_list)"
   ]
  },
  {
   "cell_type": "markdown",
   "metadata": {},
   "source": [
    "##### Adding values to a Tuple"
   ]
  },
  {
   "cell_type": "code",
   "execution_count": 74,
   "metadata": {},
   "outputs": [
    {
     "name": "stdout",
     "output_type": "stream",
     "text": [
      "(20, 5, 1, 10, 95, 123)\n",
      "(20, 5, 1, 10, 95, 123, 6)\n"
     ]
    }
   ],
   "source": [
    "tup = (20, 5, 1, 10, 95, 123)\n",
    "print(tup)\n",
    "\n",
    "tup = tup + (6,)\n",
    "\n",
    "print(tup)"
   ]
  },
  {
   "cell_type": "markdown",
   "metadata": {},
   "source": [
    "# Exercises"
   ]
  },
  {
   "cell_type": "markdown",
   "metadata": {},
   "source": [
    "## Exercise 1 <br>\n",
    "<p>Using the given list, print out a filtered version of the list with only the numbers that are less than ten</b></i></p><br>\n"
   ]
  },
  {
   "cell_type": "code",
   "execution_count": 4,
   "metadata": {},
   "outputs": [
    {
     "name": "stdout",
     "output_type": "stream",
     "text": [
      "[1, 5, 8, 9]\n"
     ]
    }
   ],
   "source": [
    "alist = [1,11,14,5,8,9]\n",
    "new_list = []\n",
    "\n",
    "for num in alist:\n",
    "    if num < 10:\n",
    "        new_list.append(num)\n",
    "\n",
    "print(new_list)\n",
    "\n",
    "\n",
    "\n"
   ]
  },
  {
   "cell_type": "markdown",
   "metadata": {},
   "source": [
    "## Exercise 2 <br>\n",
    "<p>Merge and sort the two lists below<br>\n",
    "<b><i>Hint: You can use the .sort() method</i></b></p>"
   ]
  },
  {
   "cell_type": "code",
   "execution_count": 7,
   "metadata": {},
   "outputs": [
    {
     "name": "stdout",
     "output_type": "stream",
     "text": [
      "[1, 2, 3, 3, 4, 4, 5, 5, 6, 6, 7, 8, 10]\n"
     ]
    }
   ],
   "source": [
    "l_1 = [1,2,3,4,5,6]\n",
    "l_2 = [3,4,5,6,7,8,10]\n",
    "\n",
    "new_list = sorted(l_1 + l_2)\n",
    "\n",
    "print(new_list)\n",
    "\n",
    "\n",
    "\n",
    "\n"
   ]
  },
  {
   "cell_type": "markdown",
   "metadata": {},
   "source": [
    "## Exercise 3 <br>\n",
    "<p>Square every number from 1 to 15<br>\n"
   ]
  },
  {
   "cell_type": "code",
   "execution_count": 8,
   "metadata": {},
   "outputs": [
    {
     "name": "stdout",
     "output_type": "stream",
     "text": [
      "1\n",
      "4\n",
      "9\n",
      "16\n",
      "25\n",
      "36\n",
      "49\n",
      "64\n",
      "81\n",
      "100\n",
      "121\n",
      "144\n",
      "169\n",
      "196\n",
      "225\n"
     ]
    }
   ],
   "source": [
    "for num in range(1, 16):\n",
    "    print(num**2)\n"
   ]
  },
  {
   "cell_type": "markdown",
   "metadata": {},
   "source": [
    "## Exercise 4<br>\n",
    "<p>Using List Comprehension and the given list, print out a filtered list with \n",
    "only the names that start with the letter 'a'. \n",
    "The names in the outputted list should be title cased and have no whitespace.<br>\n",
    "<p>Hint: There is an empty string at the end of the list you will need to account for.\n"
   ]
  },
  {
   "cell_type": "code",
   "execution_count": 13,
   "metadata": {},
   "outputs": [
    {
     "name": "stdout",
     "output_type": "stream",
     "text": [
      "['Amy', 'Alex']\n"
     ]
    }
   ],
   "source": [
    "names_list = ['   amy', 'Briant', 'Ryan ', ' Alex', 'steve', '  ']\n",
    "#expected output = ['Amy', 'Alex']\n",
    "\n",
    "a_names = []\n",
    "\n",
    "for name in names_list:\n",
    "    if name.strip() and name.strip().upper()[0] == \"A\":\n",
    "        a_names.append(name.strip().title())\n",
    "\n",
    "print(a_names)\n",
    "\n"
   ]
  },
  {
   "cell_type": "markdown",
   "metadata": {},
   "source": [
    "## Exercise 5 <br>\n",
    "<p>Print all Prime numbers from 1 to 100<br>\n",
    "<p>Hint: A Prime # is any # that is ONLY divisible by 1 and itself. So think how you can iterate through the list of #s from 1 to 100 and check to see if its divisible by ANY # below it.\n",
    "<p>The For/Each might be very helpful for this question. \n",
    "https://www.geeksforgeeks.org/using-else-conditional-statement-with-for-loop-in-python/\n"
   ]
  },
  {
   "cell_type": "code",
   "execution_count": 16,
   "metadata": {},
   "outputs": [
    {
     "name": "stdout",
     "output_type": "stream",
     "text": [
      "[1, 2, 3, 5, 7, 11, 13, 17, 19, 23, 29, 31, 37, 41, 43, 47, 53, 59, 61, 67, 71, 73, 79, 83, 89, 97]\n"
     ]
    }
   ],
   "source": [
    "prime_list = []\n",
    "\n",
    "for num in range(1 , 101):\n",
    "    for num2 in range(2, int(num / 2) + 1):\n",
    "        if num % num2 == 0:\n",
    "            break\n",
    "    else: \n",
    "        prime_list.append(num)\n",
    "\n",
    "print(prime_list)\n"
   ]
  }
 ],
 "metadata": {
  "kernelspec": {
   "display_name": "Python 3 (ipykernel)",
   "language": "python",
   "name": "python3"
  },
  "language_info": {
   "codemirror_mode": {
    "name": "ipython",
    "version": 3
   },
   "file_extension": ".py",
   "mimetype": "text/x-python",
   "name": "python",
   "nbconvert_exporter": "python",
   "pygments_lexer": "ipython3",
   "version": "3.12.1"
  }
 },
 "nbformat": 4,
 "nbformat_minor": 4
}
